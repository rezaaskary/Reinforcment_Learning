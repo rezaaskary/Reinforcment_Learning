{
 "cells": [
  {
   "cell_type": "code",
   "execution_count": 67,
   "metadata": {},
   "outputs": [],
   "source": [
    "import numpy as np\n",
    "from tqdm import tqdm"
   ]
  },
  {
   "cell_type": "code",
   "execution_count": 5,
   "metadata": {},
   "outputs": [],
   "source": [
    "std_ = np.ones((10,))\n",
    "mean_ = []\n",
    "def reward(i:int,std_:np.array,mean_:list)->float:\n",
    "    return np.random.normal(loc = mean_[i], scale=std_[i])\n"
   ]
  },
  {
   "cell_type": "code",
   "execution_count": 18,
   "metadata": {},
   "outputs": [],
   "source": []
  },
  {
   "cell_type": "code",
   "execution_count": 64,
   "metadata": {},
   "outputs": [],
   "source": [
    "def input_checker(func):\n",
    "    def wrapper(*args, **kwargs):\n",
    "        assert isinstance(kwargs['mean_'], (np.ndarray,list)), \"invalid format of 'mean_'\"\n",
    "        assert isinstance(kwargs['std_'], (np.ndarray,list)), \"invalid format of 'std_'\"\n",
    "        assert isinstance(kwargs['k'],int), 'k needs to be an integer'\n",
    "        assert kwargs['k'] > 1, 'the valud of k should be more than 1, {0} is given!'.format(kwargs['k'])\n",
    "        assert kwargs['k'] == len(kwargs['mean_'])==len(kwargs['std_']),'The length of std_, mean, and k are not consistent'\n",
    "        assert isinstance(kwargs['epsilon'],float), 'The value of epsilon needs to be a float'\n",
    "        assert (kwargs['epsilon']>=0) & (kwargs['epsilon']<=1.0), 'The value of epsilion needs to be between 0 and 1.0'\n",
    "        assert isinstance(kwargs['n'],int), 'the format of n is incorrect'\n",
    "        return func(*args, **kwargs)\n",
    "    return wrapper\n",
    "\n",
    "# ===============================================\n",
    "\n",
    "@input_checker\n",
    "class Epsilon_Greedy:\n",
    "    def __init__(self,\n",
    "                 std_:np.ndarray = None,\n",
    "                 mean_:np.ndarray = None,\n",
    "                 epsilon:float = None,\n",
    "                 k:int = None,\n",
    "                 n:int = None) -> None:\n",
    "        self.std_ = std_\n",
    "        self.mean_ = mean_\n",
    "        self.k = k\n",
    "        self.epsilon = epsilon\n",
    "        self.n=n\n",
    "        self.Q = np.zeros((self.k))\n",
    "        self.A = np.random.choice(range(self.k - 1))\n",
    "        self.Q_hist = np.zeros((self.k,n))\n",
    "        self.A_hist = np.zeros((self.n,))*np.nan\n",
    "        self.R = 0\n",
    "        self.action_counter = np.zeros((self.k,))\n",
    "    \n",
    "    def reward(self, ind:int)->float:\n",
    "        return np.random.normal(loc = self.mean_[ind], scale=self.std_[ind])\n",
    "    \n",
    "    def run(self):\n",
    "        for i in tqdm(range(self.n)):\n",
    "            if np.random.rand() <= self.epsilon or i == 0:\n",
    "                self.A = np.random.choice(range(self.k - 1))\n",
    "            else:\n",
    "                self.A = self.Q.argmax()\n",
    "            self.action_counter[self.A] += 1\n",
    "            self.R = self.reward(ind=self.A)\n",
    "            self.Q[self.A] = self.Q[self.A] + (1/self.action_counter[self.A]) * (self.R - self.Q[self.A])\n",
    "            self.Q_hist[:, i:i+1] = self.Q[:,None]\n",
    "            self.A_hist[i] = self.A\n",
    "        return self.Q_hist, self.A_hist, "
   ]
  },
  {
   "cell_type": "code",
   "execution_count": 66,
   "metadata": {},
   "outputs": [],
   "source": [
    "mdl = Epsilon_Greedy(mean_=[2,3,5],std_=[1,1,1],epsilon=0.1, k=3,n=1000)"
   ]
  },
  {
   "cell_type": "code",
   "execution_count": 41,
   "metadata": {},
   "outputs": [
    {
     "data": {
      "text/plain": [
       "0.4582480142391715"
      ]
     },
     "execution_count": 41,
     "metadata": {},
     "output_type": "execute_result"
    }
   ],
   "source": []
  },
  {
   "cell_type": "code",
   "execution_count": 63,
   "metadata": {},
   "outputs": [
    {
     "data": {
      "text/plain": [
       "0"
      ]
     },
     "execution_count": 63,
     "metadata": {},
     "output_type": "execute_result"
    }
   ],
   "source": [
    "np.random.choice(range(2))"
   ]
  },
  {
   "cell_type": "code",
   "execution_count": null,
   "metadata": {},
   "outputs": [],
   "source": []
  }
 ],
 "metadata": {
  "kernelspec": {
   "display_name": "Python 3",
   "language": "python",
   "name": "python3"
  },
  "language_info": {
   "codemirror_mode": {
    "name": "ipython",
    "version": 3
   },
   "file_extension": ".py",
   "mimetype": "text/x-python",
   "name": "python",
   "nbconvert_exporter": "python",
   "pygments_lexer": "ipython3",
   "version": "3.9.6"
  },
  "orig_nbformat": 4
 },
 "nbformat": 4,
 "nbformat_minor": 2
}
