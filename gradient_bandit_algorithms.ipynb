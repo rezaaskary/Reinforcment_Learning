{
 "cells": [
  {
   "cell_type": "code",
   "execution_count": 1,
   "metadata": {},
   "outputs": [
    {
     "data": {
      "text/plain": [
       "{'divide': 'warn', 'over': 'warn', 'under': 'ignore', 'invalid': 'warn'}"
      ]
     },
     "execution_count": 1,
     "metadata": {},
     "output_type": "execute_result"
    }
   ],
   "source": [
    "import numpy as np\n",
    "from tqdm import tqdm\n",
    "import matplotlib.pylab as plt\n",
    "from typing import Optional,Tuple\n",
    "np.seterr(divide='ignore')"
   ]
  },
  {
   "cell_type": "code",
   "execution_count": 2,
   "metadata": {},
   "outputs": [],
   "source": [
    "def input_checker(func):\n",
    "    \"\"\"\n",
    "    A decorator function that checks the validity of input arguments.\n",
    "\n",
    "    Args:\n",
    "        func: The function to be decorated\n",
    "\n",
    "    Returns:\n",
    "        The decorated function\n",
    "\n",
    "    Raises:\n",
    "        AssertionError: If any of the input arguments is invalid.\n",
    "    \"\"\"\n",
    "    def wrapper(std_: np.ndarray = None,\n",
    "                 mean_: np.ndarray = None,\n",
    "                 k: int = None,\n",
    "                 n: int = None,\n",
    "                 alpha: float = None\n",
    "                 ):\n",
    "        # Check the format of 'mean_'\n",
    "        assert isinstance(mean_, (np.ndarray, list)), \"invalid format of 'mean_'\"\n",
    "\n",
    "        # Check the format of 'std_'\n",
    "        assert isinstance(std_, (np.ndarray, list)), \"invalid format of 'std_'\"\n",
    "\n",
    "        # Check if 'k' is an integer\n",
    "        assert isinstance(k, int), 'k needs to be an integer'\n",
    "\n",
    "        # Check if 'k' is greater than 1\n",
    "        assert k > 1, 'the value of k should be more than 1, {0} is given!'.format(k)\n",
    "\n",
    "        # Check consistency of 'k', 'mean_', and 'std_'\n",
    "        assert k == len(mean_) == len(std_), 'The length of std_, mean, and k are not consistent'\n",
    "\n",
    "        assert alpha > 0 , 'the value of alpha needs to be positive. {0} is given'.format(alpha)\n",
    "            \n",
    "        # checking the step size\n",
    "        assert isinstance(alpha, (type(None),float)), 'the format of alpha is incorrect'\n",
    "\n",
    "        # Call the original function with the validated arguments\n",
    "        return func(std_, mean_, k, n, alpha)\n",
    "    return wrapper\n"
   ]
  },
  {
   "cell_type": "code",
   "execution_count": null,
   "metadata": {},
   "outputs": [],
   "source": [
    "@input_checker\n",
    "class EpsilonGreedy:\n",
    "    def __init__(self,\n",
    "                 std_: np.ndarray = None,\n",
    "                 mean_: np.ndarray = None,\n",
    "                 k: int = None,\n",
    "                 n: int = None,\n",
    "                 alpha: float = None,\n",
    "                 c:float = None,\n",
    "                 method: str = 'mean') -> None:\n",
    "        \"\"\"\n",
    "        Epsilon-Greedy class for the bandit-k problem.\n",
    "\n",
    "        Args:\n",
    "            std_ (np.ndarray): Array of standard deviations for each arm. Defaults to None.\n",
    "            mean_ (np.ndarray): Array of means for each arm. Defaults to None.\n",
    "            epsilon (float): Exploration rate. Defaults to None.\n",
    "            k (int): Number of arms. Defaults to None.\n",
    "            n (int): Number of time steps. Defaults to None.\n",
    "            alpha (float): Step size parameter for constant step size update. Defaults to None.\n",
    "        \"\"\"\n",
    "\n",
    "        self.std_ = std_\n",
    "        self.mean_ = mean_\n",
    "        self.k = k\n",
    "        self.n = n\n",
    "        self.alpha = alpha\n",
    "        self.Q = np.zeros((self.k))\n",
    "        self.H = np.zeros((self.k))\n",
    "\n",
    "        self.probs = np.zeros((self.k))\n",
    "        self.A = np.random.choice(range(self.k))\n",
    "        \n",
    "        self.probs = self.logits2prob()\n",
    "        self.Q_hist = np.zeros((self.k, n))\n",
    "        self.A_hist = np.zeros((self.n, )) * np.nan\n",
    "        self.R = 0\n",
    "        self.action_counter = np.zeros((self.k, ))\n",
    "\n",
    "    def logits2prob(self)->np.ndarray:\n",
    "        elements_exp = np.exp(self.H)\n",
    "        return elements_exp / elements_exp.sum()\n",
    "        \n",
    "    \n",
    "    def update_preference(self)->None:\n",
    "        mask = True\n",
    "\n",
    "        return\n",
    "\n",
    "    def run(self) -> Tuple[np.ndarray, np.ndarray, np.ndarray]:\n",
    "        \"\"\"\n",
    "        Runs the epsilon-greedy algorithm for the bandit-k problem.\n",
    "\n",
    "        Returns:\n",
    "            Tuple: Tuple containing the action-value history, action history, and action counter.\n",
    "        \"\"\"\n",
    "        for self.itr in range(self.n):\n",
    "            if self.itr == 0:\n",
    "                pass \n",
    "            else:\n",
    "                self.A = self.selector()\n",
    "            \n",
    "            self.mask = np.where(self.A, True, False)\n",
    "            self.action_counter[self.A] += 1\n",
    "            self.R = self.reward(ind=self.A)\n",
    "            self.Q[self.A] = self.Q[self.A] + self.weight() * (self.R - self.Q[self.A])\n",
    "            self.Q_hist[:, self.itr:self.itr+1] = self.Q[:, None]\n",
    "            self.A_hist[self.itr] = self.A\n",
    "        return self.Q_hist, self.A_hist, self.action_counter\n"
   ]
  },
  {
   "cell_type": "code",
   "execution_count": 3,
   "metadata": {},
   "outputs": [
    {
     "data": {
      "text/plain": [
       "[0, 1, 2, 3]"
      ]
     },
     "execution_count": 3,
     "metadata": {},
     "output_type": "execute_result"
    }
   ],
   "source": [
    "list(range(4))"
   ]
  },
  {
   "cell_type": "code",
   "execution_count": null,
   "metadata": {},
   "outputs": [],
   "source": []
  }
 ],
 "metadata": {
  "kernelspec": {
   "display_name": "Python 3",
   "language": "python",
   "name": "python3"
  },
  "language_info": {
   "codemirror_mode": {
    "name": "ipython",
    "version": 3
   },
   "file_extension": ".py",
   "mimetype": "text/x-python",
   "name": "python",
   "nbconvert_exporter": "python",
   "pygments_lexer": "ipython3",
   "version": "3.9.6"
  },
  "orig_nbformat": 4
 },
 "nbformat": 4,
 "nbformat_minor": 2
}
